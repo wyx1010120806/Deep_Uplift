{
 "cells": [
  {
   "cell_type": "code",
   "execution_count": 1,
   "metadata": {},
   "outputs": [],
   "source": [
    "import random\n",
    "import numpy as np\n",
    "import pandas as pd\n",
    "import pickle\n",
    "\n",
    "from functools import partial\n",
    "from esn_tarnet import *\n",
    "from feature_select import *\n",
    "from s_learner import *\n",
    "from t_learner import *\n",
    "from tarnet import *\n",
    "\n",
    "def set_seed(seed):\n",
    "        random.seed(seed)\n",
    "        np.random.seed(seed)\n",
    "        torch.manual_seed(seed)\n",
    "        torch.cuda.manual_seed_all(seed)\n",
    "        torch.backends.cudnn.deterministic = True\n",
    "        torch.backends.cudnn.benchmark = False\n",
    "set_seed(42)\n",
    "\n"
   ]
  },
  {
   "cell_type": "code",
   "execution_count": 2,
   "metadata": {},
   "outputs": [],
   "source": [
    "country_code = 'ID'"
   ]
  },
  {
   "cell_type": "code",
   "execution_count": 3,
   "metadata": {},
   "outputs": [
    {
     "name": "stdout",
     "output_type": "stream",
     "text": [
      "400\n",
      "133\n",
      "133\n"
     ]
    }
   ],
   "source": [
    "#读取特征列表\n",
    "with open(f'/mlx_devbox/users/wangyuxin.huoshan/playground/bonus_train_data/{country_code}_feature_list_aftersale_gmv_selected.pkl', 'rb') as f:\n",
    "    feature_list = pickle.load(f)\n",
    "print(len(feature_list))\n",
    "\n",
    "with open(f'/mlx_devbox/users/wangyuxin.huoshan/playground/bonus_train_data/{country_code}_feature_list_aftersale_gmv_selected_discrete.pkl', 'rb') as f:\n",
    "    feature_list_discrete = pickle.load(f)\n",
    "print(len(feature_list_discrete))\n",
    "\n",
    "with open(f'/mlx_devbox/users/wangyuxin.huoshan/playground/bonus_train_data/{country_code}_feature_list_aftersale_gmv_selected_discrete_size.pkl', 'rb') as f:\n",
    "    discrete_size_cols = pickle.load(f)\n",
    "print(len(discrete_size_cols))\n"
   ]
  },
  {
   "cell_type": "code",
   "execution_count": 4,
   "metadata": {},
   "outputs": [],
   "source": [
    "df = pd.read_parquet(f'/mlx_devbox/users/wangyuxin.huoshan/playground/bonus_train_data/aftersale_train_valid_{country_code}',columns=feature_list+['is_treatment','gmv','settle_gmv_rate']).fillna(0)\n",
    "\n",
    "for column in df.columns:\n",
    "    if df[column].dtype != 'float':\n",
    "        df[column] = df[column].astype('float')\n",
    "\n",
    "df['gmv_label'] = df['gmv'].apply(lambda x: 1 if x>0 else 0)\n",
    "df.groupby('is_treatment').agg(\n",
    "        gmv_label_pos_rate=('gmv_label', 'mean'),  # 正例比例 = 平均值（因为是0/1）\n",
    "        gmv_mean=('gmv', 'mean'),                  # gmv 均值\n",
    "        count=('gmv_label', 'size')                # 样本数（可选）\n",
    "    ).reset_index()"
   ]
  },
  {
   "cell_type": "code",
   "execution_count": null,
   "metadata": {},
   "outputs": [
    {
     "data": {
      "text/plain": [
       "device(type='cuda')"
      ]
     },
     "execution_count": 5,
     "metadata": {},
     "output_type": "execute_result"
    }
   ],
   "source": [
    "device = torch.device('cuda' if torch.cuda.is_available() else 'cpu')\n",
    "device"
   ]
  },
  {
   "cell_type": "code",
   "execution_count": null,
   "metadata": {},
   "outputs": [],
   "source": [
    "model = Tarnet(\n",
    "    input_dim=len(feature_list), discrete_size_cols=discrete_size_cols,embedding_dim=3,share_dim=64,\n",
    "                 share_hidden_dims =[512,256,256,128],\n",
    "                 base_hidden_dims=[64,32,32,16],output_activation_base=None,\n",
    "                 share_hidden_func = torch.nn.ELU(),base_hidden_func = torch.nn.ELU(), \n",
    "                 task = 'regression',classi_nums=2, treatment_label_list=[0,1],model_type='Tarnet',device=device\n",
    ").to(device)\n",
    "loss_f = partial(tarnet_loss)"
   ]
  },
  {
   "cell_type": "code",
   "execution_count": null,
   "metadata": {},
   "outputs": [
    {
     "name": "stdout",
     "output_type": "stream",
     "text": [
      "[16.560626 22.251774  0.       ...  0.       86.133461  0.      ]\n",
      "预计单epoch训练步数: 13047\n"
     ]
    },
    {
     "name": "stderr",
     "output_type": "stream",
     "text": [
      "/root/anaconda3/lib/python3.12/site-packages/numpy/core/fromnumeric.py:3504: RuntimeWarning: Mean of empty slice.\n",
      "  return _methods._mean(a, axis=axis, dtype=dtype,\n",
      "/root/anaconda3/lib/python3.12/site-packages/numpy/core/_methods.py:129: RuntimeWarning: invalid value encountered in scalar divide\n",
      "  ret = ret.dtype.type(ret / rcount)\n"
     ]
    },
    {
     "name": "stdout",
     "output_type": "stream",
     "text": [
      "--epoch: 0 train_loss: 74.2683  valid_loss: 74.3893 uplift_loss: nan \n",
      "epoch: 0 time: 405.4796s\n",
      "--epoch: 1 train_loss: 73.8589  valid_loss: 74.0665 uplift_loss: nan \n",
      "epoch: 1 time: 402.7189s\n",
      "--epoch: 2 train_loss: 73.6515  valid_loss: 73.9199 uplift_loss: nan \n",
      "epoch: 2 time: 402.0542s\n",
      "--epoch: 3 train_loss: 73.4729  valid_loss: 73.7446 uplift_loss: nan \n",
      "epoch: 3 time: 405.8036s\n"
     ]
    }
   ],
   "source": [
    "model.fit(\n",
    "    df=df,\n",
    "    feature_list=feature_list,\n",
    "    discrete_cols=feature_list_discrete,\n",
    "    epochs=300,\n",
    "    batch_size=256,\n",
    "    learning_rate=1e-5,\n",
    "    loss_f=loss_f,\n",
    "    tensorboard=False,\n",
    "    num_workers=40,\n",
    "    pin_memory=True,\n",
    "    device=device,\n",
    "    valid_perc=True,\n",
    "    label_y='gmv',\n",
    "    label_treatment='is_treatment',\n",
    "    task='regression',\n",
    "    loss_type='huberloss',\n",
    "    treatment_label_list=[0, 1],\n",
    "    checkpoint_path=f'/mlx_devbox/users/wangyuxin.huoshan/playground/bonus_train_data/{country_code}_aftersale_gmv_tarnet_checkpoint_256.pth',\n",
    "    if_continued_train = 0\n",
    ")"
   ]
  },
  {
   "cell_type": "code",
   "execution_count": null,
   "metadata": {},
   "outputs": [],
   "source": []
  },
  {
   "cell_type": "code",
   "execution_count": null,
   "metadata": {},
   "outputs": [],
   "source": []
  },
  {
   "cell_type": "code",
   "execution_count": null,
   "metadata": {},
   "outputs": [],
   "source": []
  },
  {
   "cell_type": "code",
   "execution_count": null,
   "metadata": {},
   "outputs": [],
   "source": []
  },
  {
   "cell_type": "code",
   "execution_count": null,
   "metadata": {},
   "outputs": [],
   "source": []
  },
  {
   "cell_type": "code",
   "execution_count": null,
   "metadata": {},
   "outputs": [],
   "source": []
  },
  {
   "cell_type": "code",
   "execution_count": null,
   "metadata": {},
   "outputs": [],
   "source": []
  },
  {
   "cell_type": "code",
   "execution_count": null,
   "metadata": {},
   "outputs": [],
   "source": []
  },
  {
   "cell_type": "code",
   "execution_count": null,
   "metadata": {},
   "outputs": [],
   "source": []
  },
  {
   "cell_type": "code",
   "execution_count": null,
   "metadata": {},
   "outputs": [],
   "source": []
  }
 ],
 "metadata": {
  "fileId": "beb3992b-677d-47b6-8ae9-c1af57f41da3",
  "filePath": "/mlx_devbox/users/wangyuxin.huoshan/playground/deeplift/main.ipynb",
  "kernelspec": {
   "display_name": "base",
   "language": "python",
   "name": "pythonjvsc74a57bd03dd32d9f94238ec8b0e4f79eabc9bcad10ffae3232487ad50a9b3a08094f8c66"
  },
  "language_info": {
   "codemirror_mode": {
    "name": "ipython",
    "version": 3
   },
   "file_extension": ".py",
   "mimetype": "text/x-python",
   "name": "python",
   "nbconvert_exporter": "python",
   "pygments_lexer": "ipython3",
   "version": "3.12.8"
  }
 },
 "nbformat": 4,
 "nbformat_minor": 2
}
